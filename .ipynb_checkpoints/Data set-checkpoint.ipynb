{
 "cells": [
  {
   "cell_type": "code",
   "execution_count": 1,
   "metadata": {
    "collapsed": true
   },
   "outputs": [],
   "source": [
    "import pandas as pd"
   ]
  },
  {
   "cell_type": "code",
   "execution_count": 37,
   "metadata": {},
   "outputs": [
    {
     "ename": "SyntaxError",
     "evalue": "(unicode error) 'unicodeescape' codec can't decode bytes in position 2-3: truncated \\UXXXXXXXX escape (<ipython-input-37-2652888f80f0>, line 4)",
     "output_type": "error",
     "traceback": [
      "\u001b[1;36m  File \u001b[1;32m\"<ipython-input-37-2652888f80f0>\"\u001b[1;36m, line \u001b[1;32m4\u001b[0m\n\u001b[1;33m    ReadExcel = pd.read_excel ('C:\\Users\\Owner\\Desktop\\nurse steps') #for an earlier version of Excel, you may need to use the file extension of 'xls'\u001b[0m\n\u001b[1;37m                              ^\u001b[0m\n\u001b[1;31mSyntaxError\u001b[0m\u001b[1;31m:\u001b[0m (unicode error) 'unicodeescape' codec can't decode bytes in position 2-3: truncated \\UXXXXXXXX escape\n"
     ]
    }
   ],
   "source": [
    "import pandas as pd\n",
    "from pandas import DataFrame\n",
    "\n",
    "ReadExcel = pd.read_excel ('C:\\Users\\Owner\\Desktop\\nurse steps') #for an earlier version of Excel, you may need to use the file extension of 'xls'\n",
    "\n",
    "df = DataFrame(ReadExcel,columns=['sex','age','shift','mon','tues','wed','thurs','fri','sat','sun']) #add as many columns as you need\n",
    "\n",
    "print (df)\n",
    "\n",
    "\n"
   ]
  },
  {
   "cell_type": "code",
   "execution_count": 7,
   "metadata": {},
   "outputs": [
    {
     "name": "stdout",
     "output_type": "stream",
     "text": [
      "     Col1 Col2\n",
      "Row1    1    2\n",
      "Row2    3    4\n"
     ]
    }
   ],
   "source": [
    "import numpy as np\n",
    "import pandas as pd\n",
    "data = np.array([['','Col1','Col2'],\n",
    "                ['Row1',1,2],\n",
    "                ['Row2',3,4]])\n",
    "                \n",
    "print(pd.DataFrame(data=data[1:,1:],\n",
    "                  index=data[1:,0],\n",
    "                  columns=data[0,1:]))"
   ]
  },
  {
   "cell_type": "code",
   "execution_count": 8,
   "metadata": {},
   "outputs": [
    {
     "ename": "SyntaxError",
     "evalue": "(unicode error) 'unicodeescape' codec can't decode bytes in position 2-3: truncated \\UXXXXXXXX escape (<ipython-input-8-0453c954546f>, line 1)",
     "output_type": "error",
     "traceback": [
      "\u001b[1;36m  File \u001b[1;32m\"<ipython-input-8-0453c954546f>\"\u001b[1;36m, line \u001b[1;32m1\u001b[0m\n\u001b[1;33m    pd.read_csv('C:\\Users\\Owner\\Desktop\\nurse steps', parse_dates=True)\u001b[0m\n\u001b[1;37m               ^\u001b[0m\n\u001b[1;31mSyntaxError\u001b[0m\u001b[1;31m:\u001b[0m (unicode error) 'unicodeescape' codec can't decode bytes in position 2-3: truncated \\UXXXXXXXX escape\n"
     ]
    }
   ],
   "source": [
    "pd.read_csv('C:\\Users\\Owner\\Desktop\\nurse steps', parse_dates=True)"
   ]
  },
  {
   "cell_type": "code",
   "execution_count": 35,
   "metadata": {},
   "outputs": [
    {
     "name": "stdout",
     "output_type": "stream",
     "text": [
      "        M      T      W      T      F\n",
      "0   12560  15905  15227  10422  10855\n",
      "1   19741  19632  19180  17420  16806\n",
      "2   15783  18691  10737  18966  12478\n",
      "3   14546  10900  14544  20515  18572\n",
      "4   11080  17102  13701  19073  14654\n",
      "5   16563  12562  10540  12731  13320\n",
      "6   11067  12942  19608  20123  20541\n",
      "7   15293  19728  15507  12054  16014\n",
      "8   16376  10915  20578  13041  18045\n",
      "9   10540  10823  17651  15508  17750\n",
      "10  13515  13869  10926  11867  10397\n",
      "11  13110  10564  12528  19125  17537\n",
      "12  18379  17193  17678  11221  18803\n",
      "13  16643  16984  16105  13019  15458\n",
      "14  17778  20822  18692  14859  16811\n",
      "15  18309  12365  10505  13287  13107\n",
      "16  11957  13179  18250  12788  18710\n",
      "17  17974  17366  13593  18835  14838\n",
      "18  11568  11549  12173  12871  11693\n",
      "19  13250  15081  18637  15549  20007\n",
      "20  15383  16119  19938  14823  11465\n",
      "21  11468  12865  18574  16998  20734\n",
      "22  11882  11332  18262  10587  19751\n",
      "23  14786  10118  11749  20114  14207\n",
      "24  19779  20219  15294  20588  11698\n",
      "25  12960  16996  16256  19497  20566\n",
      "26  17613  18263  10516  17441  13897\n",
      "27  10448  19222  16036  20678  18673\n",
      "28  10890  18800  19532  11716  12666\n",
      "29  16581  11537  13595  13968  11847\n",
      "..    ...    ...    ...    ...    ...\n",
      "70  14097  15996  13327  18945  19872\n",
      "71  20393  17248  18451  16971  11314\n",
      "72  19733  12005  10252  20812  13325\n",
      "73  16652  20956  12824  14330  18613\n",
      "74  20463  10688  18234  15887  20968\n",
      "75  12628  19264  14863  14911  17189\n",
      "76  15743  14846  12438  10204  17658\n",
      "77  16962  14285  18146  19530  20656\n",
      "78  19144  12810  15153  19353  13668\n",
      "79  11137  15554  20928  13116  11770\n",
      "80  15466  18466  12336  12590  13594\n",
      "81  17474  16604  16056  15794  18278\n",
      "82  16097  13906  13616  17234  11785\n",
      "83  10631  10835  12491  12883  14628\n",
      "84  12566  10906  12612  14449  10259\n",
      "85  17861  15196  10565  17974  17659\n",
      "86  19890  10959  10128  11699  20849\n",
      "87  15826  11279  20356  18742  14594\n",
      "88  16660  12769  18859  18596  19834\n",
      "89  13585  12673  20205  15520  17296\n",
      "90  11315  16704  17789  14280  15074\n",
      "91  14077  16670  16308  15766  17638\n",
      "92  10477  17050  16273  13983  11130\n",
      "93  11614  13204  14072  16747  16925\n",
      "94  14378  15950  16201  13881  14069\n",
      "95  12130  20985  18282  17202  14304\n",
      "96  18803  17737  18157  10984  17458\n",
      "97  18596  18180  10132  12257  16050\n",
      "98  20403  17611  17278  20395  18318\n",
      "99  10250  12135  16863  20100  17366\n",
      "\n",
      "[100 rows x 5 columns]\n"
     ]
    }
   ],
   "source": [
    "import numpy as np\n",
    "import pandas as pd\n",
    "\n",
    "df = pd.DataFrame(np.random.randint(10000,21000,size=(100, 5)), columns=list('MTWTF'))\n",
    "print(df)"
   ]
  },
  {
   "cell_type": "code",
   "execution_count": null,
   "metadata": {
    "collapsed": true
   },
   "outputs": [],
   "source": []
  }
 ],
 "metadata": {
  "kernelspec": {
   "display_name": "Python 3",
   "language": "python",
   "name": "python3"
  },
  "language_info": {
   "codemirror_mode": {
    "name": "ipython",
    "version": 3
   },
   "file_extension": ".py",
   "mimetype": "text/x-python",
   "name": "python",
   "nbconvert_exporter": "python",
   "pygments_lexer": "ipython3",
   "version": "3.6.3"
  }
 },
 "nbformat": 4,
 "nbformat_minor": 2
}
