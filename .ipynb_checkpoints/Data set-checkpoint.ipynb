{
 "cells": [
  {
   "cell_type": "markdown",
   "metadata": {},
   "source": [
    "# Background to Data investigation.\n",
    " \n",
    " A 2006 study published in MEDSURG Nursing, “How Far Do Nurses Walk?” Krischke , found that the 146 nurses studied walked an average of 4–5 miles during a 12-hour shift. For comparison’s sake, most people walk just 2.5–3 miles during the course of an 18-hour day.\n",
    "While a lot can be said for the health benefits of walking, the kind of walking nurses do at work has very little cardiac or stress-relieving benefits. In fact, walking that far during a shift can lead to fatigue, which could potentially reduce the quality of patient care.\n",
    "\n",
    "Health care leaders and nurses alike would prefer to reduce the number of steps a nurse takes during a shift in order to increase efficiency, decrease fatigue and increase time at the bedside."
   ]
  },
  {
   "cell_type": "markdown",
   "metadata": {},
   "source": [
    "The study also found that day-shift nurses walk a bit more than night-shift nurses and that caring for more patients does indeed lead to taking more steps.\n",
    "\n",
    "The writer found this an interesting concept and as there has been very little information from Irish fields, felt a comarison could be made with the United Kingdom as practices are somwhat alike.\n",
    "\n",
    "the data was collected from medical units, comprising of between twenty five and thirty beds.\n",
    "The reason a medical ward was chosen, was primerally, ICU/CCU are more compact thus reducing the ammount of steps, Operating departments and cath labs for the same reason, and surgical wards for the reason that there are increased journeys to and from the operating department. this is supported by Welton (2007), who suggests they could be standing for long periods of time which may lead to problems such as low back pain.\n",
    "\n"
   ]
  },
  {
   "cell_type": "markdown",
   "metadata": {},
   "source": [
    "Due to the nature of nursing jobs, nurses, especially those performing bedside nursing care spend much of their time standing and walking. Welton et al. (2006) reported that registered nurses in hospital adult medical-surgical units walked almost 9000 steps (over 4 miles) during a 12-hour shift."
   ]
  },
  {
   "cell_type": "markdown",
   "metadata": {},
   "source": [
    "It’s not surprise the literature consistently shows nursing as one of the  most physically active professions. In an average 12hour nurse will walk 4-5 miles, burning over 1,400 calories. To put it in perspective, restaurant servers walk 4 miles, custodians walk 5.2 miles, and retail floor staff walk 3 miles per shift. "
   ]
  },
  {
   "cell_type": "markdown",
   "metadata": {},
   "source": [
    "A project project undertaken by the Bristol-based firm Toffeln as part of Fit for 15, a three-month health campaign for NHS staff at 15 trusts around the country referred to as The Toffeln challenge (Nursing Times, 2016) included each participant wearing a pedometer and logging his or her steps over a one week period, from July to November 2015.\n",
    "Based on a total of 87 NHS staff participants, the data indicated that on average each worker takes 7,167 steps per day, this equates to 3.6 miles.\n",
    "Taking into account that there are 1.6 million NHS employees in the UK, this totals an average of nearly six million miles walked the writer believes the data is tranferrable to the Irish health employers, there are aprox 65,000 registered nurses according to An Board Altranais, (2018) in Ireland, however, the sample was a minute fraction of this group.\n",
    "\n"
   ]
  },
  {
   "cell_type": "markdown",
   "metadata": {},
   "source": [
    "## Rules.\n",
    "\n",
    "A sample size of 10 registered nurses were taken, all working in medical units, ranging from 25-30 beds.\n",
    "\n",
    "All participants worked 13hour shifts in total, with 1hour of that break/rest times, which are included in the data.\n",
    "\n",
    "All participants were asked to wear a 'fit bit' pedomiter and document their steps for the duration of the 13 hour shift.\n",
    "\n",
    "Both day and night shifts were used. \n",
    "\n",
    "Shifts were documented over weekdays only.\n",
    "\n",
    "Once participant had steps for each day of the weekday, data was sumitted."
   ]
  },
  {
   "attachments": {
    "image.png": {
     "image/png": "[encoded data removed]"
    }
   },
   "cell_type": "markdown",
   "metadata": {},
   "source": [
    "# Findings\n",
    "\n",
    "All steps were placed on an excel sheet under the headings.\n",
    "\n",
    "#### Age.\n",
    "#### Sex.\n",
    "#### Shift Type.\n",
    "#### Day of the week.\n",
    "\n",
    "D=Day.\n",
    "N=Night.\n",
    "\n",
    "Sex\tAge\tShift\tMon\t    Tues\t Wed \tThurs\t  Fri\t Sat\t Sun\n",
    "M\t63\t D\t   17255\t17426\t19099\t18693\t17255\t15744\t14012\n",
    "F\t36\t D\t   19705\t18903\t22001\t19074\t14370\t17694\t19312\n",
    "F\t41\t N\t   16950\t12370\t18140\t17375\t19200\t16987\t17321\n",
    "M\t38\t N\t   15714\t19321\t15147\t15350\t16271\t16198\t16874\n",
    "F\t36\t N\t    7213\t7027\t6605\t5435\t6707\t7039\t7301\n",
    "M\t42\t N\t   10974\t12374\t19987\t14371\t9987\t8747\t7331\n",
    "M\t27\t D\t   15715\t12751\t12174\t13217\t13731\t10741\t11313\n",
    "F\t29\t D\t   14141\t13971\t11974\t12170\t19300\t11941\t12374\n",
    "F\t24\t D\t   11174\t10348\t12174\t17371\t14741\t14171\t16371\n",
    "F\t39\t N\t   15741\t15471\t13118\t19801\t15174\t18131\t10115\n",
    "\n",
    "TOTAL STEPS\t  144582\t139962\t150419\t152857\t146736\t137393\t132324\n",
    "![image.png](attachment:image.png)"
   ]
  },
  {
   "cell_type": "markdown",
   "metadata": {},
   "source": [
    "## Findings.\n",
    "\n",
    "The data confirms that nurses in Ireland on medical units, in general take above the 10,000 step a day.\n",
    "\n",
    "Wednesday and Thursday are the days most steps are taken.\n",
    "\n"
   ]
  },
  {
   "cell_type": "code",
   "execution_count": 65,
   "metadata": {},
   "outputs": [
    {
     "name": "stdout",
     "output_type": "stream",
     "text": [
      "139962\n"
     ]
    }
   ],
   "source": [
    "#data analysis of findings.\n",
    "#Annemarie McDonnell 2018 12 09.\n",
    "\n",
    "#The list of digits.\n",
    "nums = [144582,139962,150419,52857,146736,137393,132324]\n",
    " \n",
    "#Sort the list from smallest to largest.\n",
    "nums.sort()\n",
    " \n",
    "#Find the median.\n",
    "length = len(nums)\n",
    "if (length % 2 == 0):\n",
    "    median = (nums[(length)//2] + nums[(length)//2-1]) / 2\n",
    "else:\n",
    "    median = nums[(length-1)//2]\n",
    " \n",
    "#Display the result.\n",
    "print(median)"
   ]
  },
  {
   "cell_type": "markdown",
   "metadata": {},
   "source": [
    "### Median number of steps=139962"
   ]
  },
  {
   "cell_type": "code",
   "execution_count": 56,
   "metadata": {},
   "outputs": [
    {
     "data": {
      "text/plain": [
       "129181.85714285714"
      ]
     },
     "execution_count": 56,
     "metadata": {},
     "output_type": "execute_result"
    }
   ],
   "source": [
    "#data analysis of findings.\n",
    "#Annemarie McDonnell 2018 12 09.\n",
    "\n",
    "import numpy as np\n",
    "a=[144582,139962,150419,52857,146736,137393,132324]\n",
    "np.mean(a)"
   ]
  },
  {
   "cell_type": "markdown",
   "metadata": {},
   "source": [
    "### Mean number of steps=129181.9."
   ]
  },
  {
   "cell_type": "markdown",
   "metadata": {},
   "source": [
    "Name is a label variable, no names were used in this dataset.\n",
    "Sex, and shift are nominal categorical variables, either m/f or d/n.\n",
    "Age and Steps are continuous numerical variables. (all ages are in whole integers)\n"
   ]
  },
  {
   "cell_type": "code",
   "execution_count": 62,
   "metadata": {},
   "outputs": [
    {
     "data": {
      "text/plain": [
       "58253.142857142855"
      ]
     },
     "execution_count": 62,
     "metadata": {},
     "output_type": "execute_result"
    }
   ],
   "source": [
    "#data analysis of findings.\n",
    "#Annemarie McDonnell 2018 12 09.\n",
    "\n",
    "#male mean mo of steps.\n",
    "import numpy as np\n",
    "a=[59658,61872,66407,61631,57244,51430,49530]\n",
    "np.mean(a)"
   ]
  },
  {
   "cell_type": "code",
   "execution_count": 63,
   "metadata": {},
   "outputs": [
    {
     "data": {
      "text/plain": [
       "69850.0"
      ]
     },
     "execution_count": 63,
     "metadata": {},
     "output_type": "execute_result"
    }
   ],
   "source": [
    "#data analysis of findings.\n",
    "#Annemarie McDonnell 2018 12 09.\n",
    "\n",
    "#female mean steps (one data line omited for equity)\n",
    "import numpy as np\n",
    "a=[69183,62619,70894,71425,74318,67832,72679]\n",
    "\n",
    "np.mean(a)"
   ]
  },
  {
   "cell_type": "markdown",
   "metadata": {},
   "source": [
    "## Simulation of the Data set."
   ]
  },
  {
   "cell_type": "code",
   "execution_count": 41,
   "metadata": {
    "collapsed": true
   },
   "outputs": [],
   "source": [
    "\n",
    "import pandas as pd"
   ]
  },
  {
   "cell_type": "code",
   "execution_count": 50,
   "metadata": {},
   "outputs": [
    {
     "data": {
      "text/html": [
       "<div>\n",
       "<style>\n",
       "    .dataframe thead tr:only-child th {\n",
       "        text-align: right;\n",
       "    }\n",
       "\n",
       "    .dataframe thead th {\n",
       "        text-align: left;\n",
       "    }\n",
       "\n",
       "    .dataframe tbody tr th {\n",
       "        vertical-align: top;\n",
       "    }\n",
       "</style>\n",
       "<table border=\"1\" class=\"dataframe\">\n",
       "  <thead>\n",
       "    <tr style=\"text-align: right;\">\n",
       "      <th></th>\n",
       "      <th>M</th>\n",
       "      <th>T</th>\n",
       "      <th>W</th>\n",
       "      <th>T</th>\n",
       "      <th>F</th>\n",
       "    </tr>\n",
       "  </thead>\n",
       "  <tbody>\n",
       "    <tr>\n",
       "      <th>0</th>\n",
       "      <td>16195</td>\n",
       "      <td>12446</td>\n",
       "      <td>16639</td>\n",
       "      <td>14866</td>\n",
       "      <td>14308</td>\n",
       "    </tr>\n",
       "    <tr>\n",
       "      <th>1</th>\n",
       "      <td>13883</td>\n",
       "      <td>12808</td>\n",
       "      <td>10327</td>\n",
       "      <td>12698</td>\n",
       "      <td>17980</td>\n",
       "    </tr>\n",
       "    <tr>\n",
       "      <th>2</th>\n",
       "      <td>17104</td>\n",
       "      <td>12824</td>\n",
       "      <td>16257</td>\n",
       "      <td>14886</td>\n",
       "      <td>16855</td>\n",
       "    </tr>\n",
       "    <tr>\n",
       "      <th>3</th>\n",
       "      <td>14539</td>\n",
       "      <td>10291</td>\n",
       "      <td>11867</td>\n",
       "      <td>16814</td>\n",
       "      <td>12470</td>\n",
       "    </tr>\n",
       "    <tr>\n",
       "      <th>4</th>\n",
       "      <td>16309</td>\n",
       "      <td>10765</td>\n",
       "      <td>17404</td>\n",
       "      <td>10145</td>\n",
       "      <td>12404</td>\n",
       "    </tr>\n",
       "    <tr>\n",
       "      <th>5</th>\n",
       "      <td>13315</td>\n",
       "      <td>15425</td>\n",
       "      <td>11753</td>\n",
       "      <td>10124</td>\n",
       "      <td>10836</td>\n",
       "    </tr>\n",
       "    <tr>\n",
       "      <th>6</th>\n",
       "      <td>17935</td>\n",
       "      <td>13524</td>\n",
       "      <td>12962</td>\n",
       "      <td>14820</td>\n",
       "      <td>17509</td>\n",
       "    </tr>\n",
       "    <tr>\n",
       "      <th>7</th>\n",
       "      <td>14397</td>\n",
       "      <td>13554</td>\n",
       "      <td>17035</td>\n",
       "      <td>15113</td>\n",
       "      <td>15249</td>\n",
       "    </tr>\n",
       "    <tr>\n",
       "      <th>8</th>\n",
       "      <td>14894</td>\n",
       "      <td>11843</td>\n",
       "      <td>17125</td>\n",
       "      <td>12785</td>\n",
       "      <td>12782</td>\n",
       "    </tr>\n",
       "    <tr>\n",
       "      <th>9</th>\n",
       "      <td>11486</td>\n",
       "      <td>17194</td>\n",
       "      <td>10204</td>\n",
       "      <td>10853</td>\n",
       "      <td>16372</td>\n",
       "    </tr>\n",
       "    <tr>\n",
       "      <th>10</th>\n",
       "      <td>14805</td>\n",
       "      <td>17141</td>\n",
       "      <td>16554</td>\n",
       "      <td>13684</td>\n",
       "      <td>12205</td>\n",
       "    </tr>\n",
       "    <tr>\n",
       "      <th>11</th>\n",
       "      <td>17084</td>\n",
       "      <td>17076</td>\n",
       "      <td>12472</td>\n",
       "      <td>11821</td>\n",
       "      <td>16939</td>\n",
       "    </tr>\n",
       "    <tr>\n",
       "      <th>12</th>\n",
       "      <td>13087</td>\n",
       "      <td>15486</td>\n",
       "      <td>17722</td>\n",
       "      <td>15315</td>\n",
       "      <td>17400</td>\n",
       "    </tr>\n",
       "    <tr>\n",
       "      <th>13</th>\n",
       "      <td>16199</td>\n",
       "      <td>16180</td>\n",
       "      <td>14755</td>\n",
       "      <td>17127</td>\n",
       "      <td>12081</td>\n",
       "    </tr>\n",
       "    <tr>\n",
       "      <th>14</th>\n",
       "      <td>17562</td>\n",
       "      <td>16203</td>\n",
       "      <td>15398</td>\n",
       "      <td>11645</td>\n",
       "      <td>13211</td>\n",
       "    </tr>\n",
       "    <tr>\n",
       "      <th>15</th>\n",
       "      <td>11903</td>\n",
       "      <td>15892</td>\n",
       "      <td>15723</td>\n",
       "      <td>14802</td>\n",
       "      <td>10807</td>\n",
       "    </tr>\n",
       "    <tr>\n",
       "      <th>16</th>\n",
       "      <td>11241</td>\n",
       "      <td>13082</td>\n",
       "      <td>13146</td>\n",
       "      <td>16924</td>\n",
       "      <td>13572</td>\n",
       "    </tr>\n",
       "    <tr>\n",
       "      <th>17</th>\n",
       "      <td>17158</td>\n",
       "      <td>11174</td>\n",
       "      <td>10660</td>\n",
       "      <td>15488</td>\n",
       "      <td>14511</td>\n",
       "    </tr>\n",
       "    <tr>\n",
       "      <th>18</th>\n",
       "      <td>11756</td>\n",
       "      <td>10099</td>\n",
       "      <td>12116</td>\n",
       "      <td>15608</td>\n",
       "      <td>16137</td>\n",
       "    </tr>\n",
       "    <tr>\n",
       "      <th>19</th>\n",
       "      <td>10459</td>\n",
       "      <td>14969</td>\n",
       "      <td>16092</td>\n",
       "      <td>11038</td>\n",
       "      <td>10466</td>\n",
       "    </tr>\n",
       "    <tr>\n",
       "      <th>20</th>\n",
       "      <td>12000</td>\n",
       "      <td>12193</td>\n",
       "      <td>17402</td>\n",
       "      <td>17821</td>\n",
       "      <td>15230</td>\n",
       "    </tr>\n",
       "    <tr>\n",
       "      <th>21</th>\n",
       "      <td>14147</td>\n",
       "      <td>12623</td>\n",
       "      <td>11665</td>\n",
       "      <td>13554</td>\n",
       "      <td>13958</td>\n",
       "    </tr>\n",
       "    <tr>\n",
       "      <th>22</th>\n",
       "      <td>16074</td>\n",
       "      <td>12544</td>\n",
       "      <td>16553</td>\n",
       "      <td>13595</td>\n",
       "      <td>14198</td>\n",
       "    </tr>\n",
       "    <tr>\n",
       "      <th>23</th>\n",
       "      <td>17337</td>\n",
       "      <td>11891</td>\n",
       "      <td>10285</td>\n",
       "      <td>11920</td>\n",
       "      <td>12686</td>\n",
       "    </tr>\n",
       "    <tr>\n",
       "      <th>24</th>\n",
       "      <td>13472</td>\n",
       "      <td>11232</td>\n",
       "      <td>16242</td>\n",
       "      <td>12602</td>\n",
       "      <td>10628</td>\n",
       "    </tr>\n",
       "    <tr>\n",
       "      <th>25</th>\n",
       "      <td>16319</td>\n",
       "      <td>16762</td>\n",
       "      <td>15844</td>\n",
       "      <td>15092</td>\n",
       "      <td>17071</td>\n",
       "    </tr>\n",
       "    <tr>\n",
       "      <th>26</th>\n",
       "      <td>15111</td>\n",
       "      <td>13076</td>\n",
       "      <td>12589</td>\n",
       "      <td>16622</td>\n",
       "      <td>15374</td>\n",
       "    </tr>\n",
       "    <tr>\n",
       "      <th>27</th>\n",
       "      <td>16631</td>\n",
       "      <td>11184</td>\n",
       "      <td>12005</td>\n",
       "      <td>15320</td>\n",
       "      <td>12396</td>\n",
       "    </tr>\n",
       "    <tr>\n",
       "      <th>28</th>\n",
       "      <td>12954</td>\n",
       "      <td>16013</td>\n",
       "      <td>16872</td>\n",
       "      <td>14104</td>\n",
       "      <td>14812</td>\n",
       "    </tr>\n",
       "    <tr>\n",
       "      <th>29</th>\n",
       "      <td>11946</td>\n",
       "      <td>13880</td>\n",
       "      <td>12145</td>\n",
       "      <td>14987</td>\n",
       "      <td>12325</td>\n",
       "    </tr>\n",
       "    <tr>\n",
       "      <th>...</th>\n",
       "      <td>...</td>\n",
       "      <td>...</td>\n",
       "      <td>...</td>\n",
       "      <td>...</td>\n",
       "      <td>...</td>\n",
       "    </tr>\n",
       "    <tr>\n",
       "      <th>70</th>\n",
       "      <td>14632</td>\n",
       "      <td>11189</td>\n",
       "      <td>12416</td>\n",
       "      <td>11717</td>\n",
       "      <td>14191</td>\n",
       "    </tr>\n",
       "    <tr>\n",
       "      <th>71</th>\n",
       "      <td>13813</td>\n",
       "      <td>13850</td>\n",
       "      <td>17605</td>\n",
       "      <td>12429</td>\n",
       "      <td>11760</td>\n",
       "    </tr>\n",
       "    <tr>\n",
       "      <th>72</th>\n",
       "      <td>10509</td>\n",
       "      <td>11325</td>\n",
       "      <td>11805</td>\n",
       "      <td>10839</td>\n",
       "      <td>12255</td>\n",
       "    </tr>\n",
       "    <tr>\n",
       "      <th>73</th>\n",
       "      <td>13181</td>\n",
       "      <td>17589</td>\n",
       "      <td>12252</td>\n",
       "      <td>17298</td>\n",
       "      <td>12466</td>\n",
       "    </tr>\n",
       "    <tr>\n",
       "      <th>74</th>\n",
       "      <td>14947</td>\n",
       "      <td>15864</td>\n",
       "      <td>16860</td>\n",
       "      <td>16761</td>\n",
       "      <td>17843</td>\n",
       "    </tr>\n",
       "    <tr>\n",
       "      <th>75</th>\n",
       "      <td>10197</td>\n",
       "      <td>11670</td>\n",
       "      <td>15575</td>\n",
       "      <td>11944</td>\n",
       "      <td>12634</td>\n",
       "    </tr>\n",
       "    <tr>\n",
       "      <th>76</th>\n",
       "      <td>14813</td>\n",
       "      <td>13251</td>\n",
       "      <td>13696</td>\n",
       "      <td>13135</td>\n",
       "      <td>12281</td>\n",
       "    </tr>\n",
       "    <tr>\n",
       "      <th>77</th>\n",
       "      <td>13298</td>\n",
       "      <td>15153</td>\n",
       "      <td>16243</td>\n",
       "      <td>11796</td>\n",
       "      <td>15899</td>\n",
       "    </tr>\n",
       "    <tr>\n",
       "      <th>78</th>\n",
       "      <td>11854</td>\n",
       "      <td>15412</td>\n",
       "      <td>13007</td>\n",
       "      <td>13795</td>\n",
       "      <td>13712</td>\n",
       "    </tr>\n",
       "    <tr>\n",
       "      <th>79</th>\n",
       "      <td>14734</td>\n",
       "      <td>14421</td>\n",
       "      <td>10865</td>\n",
       "      <td>15705</td>\n",
       "      <td>11354</td>\n",
       "    </tr>\n",
       "    <tr>\n",
       "      <th>80</th>\n",
       "      <td>15207</td>\n",
       "      <td>17910</td>\n",
       "      <td>14429</td>\n",
       "      <td>11785</td>\n",
       "      <td>17854</td>\n",
       "    </tr>\n",
       "    <tr>\n",
       "      <th>81</th>\n",
       "      <td>16216</td>\n",
       "      <td>10961</td>\n",
       "      <td>15616</td>\n",
       "      <td>10569</td>\n",
       "      <td>12571</td>\n",
       "    </tr>\n",
       "    <tr>\n",
       "      <th>82</th>\n",
       "      <td>16512</td>\n",
       "      <td>12746</td>\n",
       "      <td>16652</td>\n",
       "      <td>14711</td>\n",
       "      <td>12767</td>\n",
       "    </tr>\n",
       "    <tr>\n",
       "      <th>83</th>\n",
       "      <td>17495</td>\n",
       "      <td>10850</td>\n",
       "      <td>12934</td>\n",
       "      <td>15161</td>\n",
       "      <td>14406</td>\n",
       "    </tr>\n",
       "    <tr>\n",
       "      <th>84</th>\n",
       "      <td>14533</td>\n",
       "      <td>15567</td>\n",
       "      <td>11480</td>\n",
       "      <td>17678</td>\n",
       "      <td>12376</td>\n",
       "    </tr>\n",
       "    <tr>\n",
       "      <th>85</th>\n",
       "      <td>14389</td>\n",
       "      <td>16314</td>\n",
       "      <td>16767</td>\n",
       "      <td>17519</td>\n",
       "      <td>12684</td>\n",
       "    </tr>\n",
       "    <tr>\n",
       "      <th>86</th>\n",
       "      <td>12084</td>\n",
       "      <td>11358</td>\n",
       "      <td>14945</td>\n",
       "      <td>10574</td>\n",
       "      <td>10007</td>\n",
       "    </tr>\n",
       "    <tr>\n",
       "      <th>87</th>\n",
       "      <td>17347</td>\n",
       "      <td>10871</td>\n",
       "      <td>11217</td>\n",
       "      <td>15311</td>\n",
       "      <td>10517</td>\n",
       "    </tr>\n",
       "    <tr>\n",
       "      <th>88</th>\n",
       "      <td>12351</td>\n",
       "      <td>14813</td>\n",
       "      <td>11562</td>\n",
       "      <td>12749</td>\n",
       "      <td>11732</td>\n",
       "    </tr>\n",
       "    <tr>\n",
       "      <th>89</th>\n",
       "      <td>12481</td>\n",
       "      <td>14758</td>\n",
       "      <td>14006</td>\n",
       "      <td>12866</td>\n",
       "      <td>13136</td>\n",
       "    </tr>\n",
       "    <tr>\n",
       "      <th>90</th>\n",
       "      <td>15652</td>\n",
       "      <td>15997</td>\n",
       "      <td>10840</td>\n",
       "      <td>14655</td>\n",
       "      <td>13853</td>\n",
       "    </tr>\n",
       "    <tr>\n",
       "      <th>91</th>\n",
       "      <td>10583</td>\n",
       "      <td>15158</td>\n",
       "      <td>10784</td>\n",
       "      <td>10248</td>\n",
       "      <td>14775</td>\n",
       "    </tr>\n",
       "    <tr>\n",
       "      <th>92</th>\n",
       "      <td>10449</td>\n",
       "      <td>16592</td>\n",
       "      <td>12966</td>\n",
       "      <td>14780</td>\n",
       "      <td>14076</td>\n",
       "    </tr>\n",
       "    <tr>\n",
       "      <th>93</th>\n",
       "      <td>10779</td>\n",
       "      <td>12953</td>\n",
       "      <td>16724</td>\n",
       "      <td>16398</td>\n",
       "      <td>16807</td>\n",
       "    </tr>\n",
       "    <tr>\n",
       "      <th>94</th>\n",
       "      <td>13658</td>\n",
       "      <td>16744</td>\n",
       "      <td>11768</td>\n",
       "      <td>16862</td>\n",
       "      <td>17431</td>\n",
       "    </tr>\n",
       "    <tr>\n",
       "      <th>95</th>\n",
       "      <td>13086</td>\n",
       "      <td>12299</td>\n",
       "      <td>11910</td>\n",
       "      <td>14659</td>\n",
       "      <td>17021</td>\n",
       "    </tr>\n",
       "    <tr>\n",
       "      <th>96</th>\n",
       "      <td>12475</td>\n",
       "      <td>15142</td>\n",
       "      <td>17019</td>\n",
       "      <td>17677</td>\n",
       "      <td>16057</td>\n",
       "    </tr>\n",
       "    <tr>\n",
       "      <th>97</th>\n",
       "      <td>10818</td>\n",
       "      <td>11636</td>\n",
       "      <td>13754</td>\n",
       "      <td>13974</td>\n",
       "      <td>15083</td>\n",
       "    </tr>\n",
       "    <tr>\n",
       "      <th>98</th>\n",
       "      <td>11515</td>\n",
       "      <td>15930</td>\n",
       "      <td>10757</td>\n",
       "      <td>13214</td>\n",
       "      <td>15350</td>\n",
       "    </tr>\n",
       "    <tr>\n",
       "      <th>99</th>\n",
       "      <td>16284</td>\n",
       "      <td>17870</td>\n",
       "      <td>12470</td>\n",
       "      <td>16552</td>\n",
       "      <td>17444</td>\n",
       "    </tr>\n",
       "  </tbody>\n",
       "</table>\n",
       "<p>100 rows × 5 columns</p>\n",
       "</div>"
      ],
      "text/plain": [
       "        M      T      W      T      F\n",
       "0   16195  12446  16639  14866  14308\n",
       "1   13883  12808  10327  12698  17980\n",
       "2   17104  12824  16257  14886  16855\n",
       "3   14539  10291  11867  16814  12470\n",
       "4   16309  10765  17404  10145  12404\n",
       "5   13315  15425  11753  10124  10836\n",
       "6   17935  13524  12962  14820  17509\n",
       "7   14397  13554  17035  15113  15249\n",
       "8   14894  11843  17125  12785  12782\n",
       "9   11486  17194  10204  10853  16372\n",
       "10  14805  17141  16554  13684  12205\n",
       "11  17084  17076  12472  11821  16939\n",
       "12  13087  15486  17722  15315  17400\n",
       "13  16199  16180  14755  17127  12081\n",
       "14  17562  16203  15398  11645  13211\n",
       "15  11903  15892  15723  14802  10807\n",
       "16  11241  13082  13146  16924  13572\n",
       "17  17158  11174  10660  15488  14511\n",
       "18  11756  10099  12116  15608  16137\n",
       "19  10459  14969  16092  11038  10466\n",
       "20  12000  12193  17402  17821  15230\n",
       "21  14147  12623  11665  13554  13958\n",
       "22  16074  12544  16553  13595  14198\n",
       "23  17337  11891  10285  11920  12686\n",
       "24  13472  11232  16242  12602  10628\n",
       "25  16319  16762  15844  15092  17071\n",
       "26  15111  13076  12589  16622  15374\n",
       "27  16631  11184  12005  15320  12396\n",
       "28  12954  16013  16872  14104  14812\n",
       "29  11946  13880  12145  14987  12325\n",
       "..    ...    ...    ...    ...    ...\n",
       "70  14632  11189  12416  11717  14191\n",
       "71  13813  13850  17605  12429  11760\n",
       "72  10509  11325  11805  10839  12255\n",
       "73  13181  17589  12252  17298  12466\n",
       "74  14947  15864  16860  16761  17843\n",
       "75  10197  11670  15575  11944  12634\n",
       "76  14813  13251  13696  13135  12281\n",
       "77  13298  15153  16243  11796  15899\n",
       "78  11854  15412  13007  13795  13712\n",
       "79  14734  14421  10865  15705  11354\n",
       "80  15207  17910  14429  11785  17854\n",
       "81  16216  10961  15616  10569  12571\n",
       "82  16512  12746  16652  14711  12767\n",
       "83  17495  10850  12934  15161  14406\n",
       "84  14533  15567  11480  17678  12376\n",
       "85  14389  16314  16767  17519  12684\n",
       "86  12084  11358  14945  10574  10007\n",
       "87  17347  10871  11217  15311  10517\n",
       "88  12351  14813  11562  12749  11732\n",
       "89  12481  14758  14006  12866  13136\n",
       "90  15652  15997  10840  14655  13853\n",
       "91  10583  15158  10784  10248  14775\n",
       "92  10449  16592  12966  14780  14076\n",
       "93  10779  12953  16724  16398  16807\n",
       "94  13658  16744  11768  16862  17431\n",
       "95  13086  12299  11910  14659  17021\n",
       "96  12475  15142  17019  17677  16057\n",
       "97  10818  11636  13754  13974  15083\n",
       "98  11515  15930  10757  13214  15350\n",
       "99  16284  17870  12470  16552  17444\n",
       "\n",
       "[100 rows x 5 columns]"
      ]
     },
     "execution_count": 50,
     "metadata": {},
     "output_type": "execute_result"
    }
   ],
   "source": [
    "\n",
    "#Annemarie McDonnell 2018 12 09.\n",
    "#edited version of code stack overflow\n",
    "import numpy as np\n",
    "import pandas as pd\n",
    "\n",
    "df = pd.DataFrame(np.random.randint(10000,18000,size=(100, 5)), columns=list('MTWTF'))\n",
    "df\n",
    "\n",
    "\n"
   ]
  },
  {
   "cell_type": "code",
   "execution_count": 16,
   "metadata": {
    "collapsed": true
   },
   "outputs": [],
   "source": [
    "import pandas as pd\n",
    "import matplotlib.pyplot as plt\n",
    "import numpy as np"
   ]
  },
  {
   "cell_type": "code",
   "execution_count": 41,
   "metadata": {},
   "outputs": [
    {
     "name": "stdout",
     "output_type": "stream",
     "text": [
      "       M      T      W      T      F\n",
      "0  11672  13690  17689  17605  16882\n",
      "1  17985  11148  10403  16283  11022\n",
      "2  14943  16844  13965  14232  12226\n",
      "3  10959  14755  16084  17655  15938\n",
      "4  13801  15924  15343  16320  13780\n"
     ]
    },
    {
     "data": {
      "image/png": "[encoded data removed]",
      "text/plain": [
       "<matplotlib.figure.Figure at 0x231941d2208>"
      ]
     },
     "metadata": {},
     "output_type": "display_data"
    }
   ],
   "source": [
    "import pandas as pd\n",
    "import numpy as np\n",
    "import matplotlib.pyplot as plt\n",
    "df = pd.DataFrame(np.random.randint(10000,18000,size=(100, 5)), columns=list('MTWTF'))\n",
    "print(df.head())\n",
    "\n",
    "plt.hist(df)\n",
    "plt.show()\n",
    "\n"
   ]
  },
  {
   "cell_type": "code",
   "execution_count": 42,
   "metadata": {},
   "outputs": [
    {
     "data": {
      "text/html": [
       "<div>\n",
       "<style>\n",
       "    .dataframe thead tr:only-child th {\n",
       "        text-align: right;\n",
       "    }\n",
       "\n",
       "    .dataframe thead th {\n",
       "        text-align: left;\n",
       "    }\n",
       "\n",
       "    .dataframe tbody tr th {\n",
       "        vertical-align: top;\n",
       "    }\n",
       "</style>\n",
       "<table border=\"1\" class=\"dataframe\">\n",
       "  <thead>\n",
       "    <tr style=\"text-align: right;\">\n",
       "      <th></th>\n",
       "      <th>M</th>\n",
       "      <th>T</th>\n",
       "      <th>W</th>\n",
       "      <th>T</th>\n",
       "      <th>F</th>\n",
       "    </tr>\n",
       "  </thead>\n",
       "  <tbody>\n",
       "    <tr>\n",
       "      <th>0</th>\n",
       "      <td>14025</td>\n",
       "      <td>14449</td>\n",
       "      <td>14298</td>\n",
       "      <td>12455</td>\n",
       "      <td>16476</td>\n",
       "    </tr>\n",
       "    <tr>\n",
       "      <th>1</th>\n",
       "      <td>17483</td>\n",
       "      <td>16391</td>\n",
       "      <td>10215</td>\n",
       "      <td>12202</td>\n",
       "      <td>12844</td>\n",
       "    </tr>\n",
       "    <tr>\n",
       "      <th>2</th>\n",
       "      <td>11019</td>\n",
       "      <td>16189</td>\n",
       "      <td>10938</td>\n",
       "      <td>14061</td>\n",
       "      <td>16857</td>\n",
       "    </tr>\n",
       "    <tr>\n",
       "      <th>3</th>\n",
       "      <td>15563</td>\n",
       "      <td>12643</td>\n",
       "      <td>15230</td>\n",
       "      <td>14241</td>\n",
       "      <td>17725</td>\n",
       "    </tr>\n",
       "    <tr>\n",
       "      <th>4</th>\n",
       "      <td>16045</td>\n",
       "      <td>15313</td>\n",
       "      <td>14035</td>\n",
       "      <td>13842</td>\n",
       "      <td>12386</td>\n",
       "    </tr>\n",
       "    <tr>\n",
       "      <th>5</th>\n",
       "      <td>16020</td>\n",
       "      <td>17237</td>\n",
       "      <td>16486</td>\n",
       "      <td>13332</td>\n",
       "      <td>11704</td>\n",
       "    </tr>\n",
       "    <tr>\n",
       "      <th>6</th>\n",
       "      <td>14556</td>\n",
       "      <td>14629</td>\n",
       "      <td>15461</td>\n",
       "      <td>15551</td>\n",
       "      <td>11431</td>\n",
       "    </tr>\n",
       "    <tr>\n",
       "      <th>7</th>\n",
       "      <td>11991</td>\n",
       "      <td>10128</td>\n",
       "      <td>10423</td>\n",
       "      <td>11436</td>\n",
       "      <td>17284</td>\n",
       "    </tr>\n",
       "    <tr>\n",
       "      <th>8</th>\n",
       "      <td>10758</td>\n",
       "      <td>13209</td>\n",
       "      <td>12568</td>\n",
       "      <td>16575</td>\n",
       "      <td>12867</td>\n",
       "    </tr>\n",
       "    <tr>\n",
       "      <th>9</th>\n",
       "      <td>12635</td>\n",
       "      <td>12810</td>\n",
       "      <td>13050</td>\n",
       "      <td>14789</td>\n",
       "      <td>16273</td>\n",
       "    </tr>\n",
       "  </tbody>\n",
       "</table>\n",
       "</div>"
      ],
      "text/plain": [
       "       M      T      W      T      F\n",
       "0  14025  14449  14298  12455  16476\n",
       "1  17483  16391  10215  12202  12844\n",
       "2  11019  16189  10938  14061  16857\n",
       "3  15563  12643  15230  14241  17725\n",
       "4  16045  15313  14035  13842  12386\n",
       "5  16020  17237  16486  13332  11704\n",
       "6  14556  14629  15461  15551  11431\n",
       "7  11991  10128  10423  11436  17284\n",
       "8  10758  13209  12568  16575  12867\n",
       "9  12635  12810  13050  14789  16273"
      ]
     },
     "execution_count": 42,
     "metadata": {},
     "output_type": "execute_result"
    }
   ],
   "source": [
    "df = pd.DataFrame(np.random.randint(10000,18000,size=(100, 5)), columns=list('MTWTF'))\n",
    "df.head(10)\n"
   ]
  },
  {
   "cell_type": "code",
   "execution_count": 9,
   "metadata": {
    "collapsed": true
   },
   "outputs": [],
   "source": [
    "import sqlite3"
   ]
  },
  {
   "cell_type": "code",
   "execution_count": 10,
   "metadata": {
    "collapsed": true
   },
   "outputs": [],
   "source": [
    "\n",
    "#Annemarie McDonnell 2018 12 09.\n",
    "#edited code credit Ian McLoughlin\n",
    "conn = sqlite3.connect('steps.db')"
   ]
  },
  {
   "cell_type": "code",
   "execution_count": 11,
   "metadata": {},
   "outputs": [],
   "source": [
    "c=conn.cursor()"
   ]
  },
  {
   "cell_type": "code",
   "execution_count": 34,
   "metadata": {},
   "outputs": [
    {
     "ename": "OperationalError",
     "evalue": "table Steps already exists",
     "output_type": "error",
     "traceback": [
      "\u001b[1;31m---------------------------------------------------------------------------\u001b[0m",
      "\u001b[1;31mOperationalError\u001b[0m                          Traceback (most recent call last)",
      "\u001b[1;32m<ipython-input-34-db08c584df24>\u001b[0m in \u001b[0;36m<module>\u001b[1;34m()\u001b[0m\n\u001b[1;32m----> 1\u001b[1;33m \u001b[0mc\u001b[0m\u001b[1;33m.\u001b[0m\u001b[0mexecute\u001b[0m\u001b[1;33m(\u001b[0m\u001b[1;34m'''CREATE TABLE Steps(Shift text, Monday integer, Tuesday integer, Wednesday integer, Thursday integer, Friday integer)'''\u001b[0m\u001b[1;33m)\u001b[0m\u001b[1;33m\u001b[0m\u001b[0m\n\u001b[0m\u001b[0;32m      2\u001b[0m \u001b[1;33m\u001b[0m\u001b[0m\n\u001b[0;32m      3\u001b[0m \u001b[0mconn\u001b[0m\u001b[1;33m.\u001b[0m\u001b[0mcommit\u001b[0m\u001b[1;33m(\u001b[0m\u001b[1;33m)\u001b[0m\u001b[1;33m\u001b[0m\u001b[0m\n",
      "\u001b[1;31mOperationalError\u001b[0m: table Steps already exists"
     ]
    }
   ],
   "source": [
    "c.execute('''CREATE TABLE Steps(Shift text, Monday integer, Tuesday integer, Wednesday integer, Thursday integer, Friday integer)''')\n",
    "\n",
    "conn.commit()"
   ]
  },
  {
   "cell_type": "code",
   "execution_count": 35,
   "metadata": {},
   "outputs": [
    {
     "data": {
      "text/plain": [
       "[('test2',), ('Steps',)]"
      ]
     },
     "execution_count": 35,
     "metadata": {},
     "output_type": "execute_result"
    }
   ],
   "source": [
    "c.execute(\"SELECT name FROM sqlite_master WHERE type='table'\")\n",
    "c.fetchall()"
   ]
  },
  {
   "cell_type": "code",
   "execution_count": 8,
   "metadata": {
    "collapsed": true
   },
   "outputs": [],
   "source": [
    "c.execute(\"INSERT INTO steps VALUES('Day', '17255','17426','19099','18693','17255')\")\n",
    "conn.commit()"
   ]
  },
  {
   "cell_type": "code",
   "execution_count": 49,
   "metadata": {},
   "outputs": [
    {
     "data": {
      "text/plain": [
       "[('Day', '17255', '17426', '18693', '17255')]"
      ]
     },
     "execution_count": 49,
     "metadata": {},
     "output_type": "execute_result"
    }
   ],
   "source": [
    "c.execute(\"SELECT Shift, Monday, Tuesday, Thursday, Friday FROM steps\")\n",
    "c.fetchall()"
   ]
  },
  {
   "cell_type": "code",
   "execution_count": 30,
   "metadata": {
    "collapsed": true
   },
   "outputs": [],
   "source": [
    "shift=[('Day'),('Day'),('Night'),('Night'),('Night'),('Night'),('Day'),('Day'),('Day'),('Night')]"
   ]
  },
  {
   "cell_type": "code",
   "execution_count": 31,
   "metadata": {},
   "outputs": [
    {
     "data": {
      "text/plain": [
       "['Day',\n",
       " 'Day',\n",
       " 'Night',\n",
       " 'Night',\n",
       " 'Night',\n",
       " 'Night',\n",
       " 'Day',\n",
       " 'Day',\n",
       " 'Day',\n",
       " 'Night']"
      ]
     },
     "execution_count": 31,
     "metadata": {},
     "output_type": "execute_result"
    }
   ],
   "source": [
    "shift"
   ]
  },
  {
   "cell_type": "code",
   "execution_count": 18,
   "metadata": {
    "collapsed": true
   },
   "outputs": [],
   "source": [
    "Monday=[('17255'),('19705'),('16950'),('15714'),('7213'),('10974'),('15715'),('14141'),('11174'),('15741')]"
   ]
  },
  {
   "cell_type": "code",
   "execution_count": 20,
   "metadata": {},
   "outputs": [
    {
     "data": {
      "text/plain": [
       "['17255',\n",
       " '19705',\n",
       " '16950',\n",
       " '15714',\n",
       " '7213',\n",
       " '10974',\n",
       " '15715',\n",
       " '14141',\n",
       " '11174',\n",
       " '15741']"
      ]
     },
     "execution_count": 20,
     "metadata": {},
     "output_type": "execute_result"
    }
   ],
   "source": [
    "Monday"
   ]
  },
  {
   "cell_type": "code",
   "execution_count": 21,
   "metadata": {
    "collapsed": true
   },
   "outputs": [],
   "source": [
    "Tuesday=[('17426'),('18903'),('12370'),('19321'),('7027'),('12374'),('12751'),('13971'),('10348'),('15471')]"
   ]
  },
  {
   "cell_type": "code",
   "execution_count": 22,
   "metadata": {},
   "outputs": [
    {
     "data": {
      "text/plain": [
       "['17426',\n",
       " '18903',\n",
       " '12370',\n",
       " '19321',\n",
       " '7027',\n",
       " '12374',\n",
       " '12751',\n",
       " '13971',\n",
       " '10348',\n",
       " '15471']"
      ]
     },
     "execution_count": 22,
     "metadata": {},
     "output_type": "execute_result"
    }
   ],
   "source": [
    "Tuesday"
   ]
  },
  {
   "cell_type": "code",
   "execution_count": 50,
   "metadata": {},
   "outputs": [
    {
     "data": {
      "text/plain": [
       "[('Day',)]"
      ]
     },
     "execution_count": 50,
     "metadata": {},
     "output_type": "execute_result"
    }
   ],
   "source": [
    "c.execute(\"SELECT Shift FROM steps\")\n",
    "c.fetchall()"
   ]
  },
  {
   "cell_type": "code",
   "execution_count": 30,
   "metadata": {
    "collapsed": true
   },
   "outputs": [],
   "source": [
    "shift=[('Day'),('Day'),('Night'),('Night'),('Night'),('Night'),('Day'),('Day'),('Day'),('Night')]"
   ]
  },
  {
   "cell_type": "code",
   "execution_count": 31,
   "metadata": {},
   "outputs": [
    {
     "data": {
      "text/plain": [
       "['Day',\n",
       " 'Day',\n",
       " 'Night',\n",
       " 'Night',\n",
       " 'Night',\n",
       " 'Night',\n",
       " 'Day',\n",
       " 'Day',\n",
       " 'Day',\n",
       " 'Night']"
      ]
     },
     "execution_count": 31,
     "metadata": {},
     "output_type": "execute_result"
    }
   ],
   "source": [
    "shift"
   ]
  },
  {
   "cell_type": "code",
   "execution_count": 22,
   "metadata": {
    "collapsed": true
   },
   "outputs": [],
   "source": [
    "Wednesday= [('19099'),\n",
    "('22001'),\n",
    "('18140'),\n",
    "('15147'),\n",
    "('6605'),\n",
    "('19987'),\n",
    "('12174'),\n",
    "('11974'),\n",
    "('12174'),\n",
    "('13118')]"
   ]
  },
  {
   "cell_type": "code",
   "execution_count": 23,
   "metadata": {},
   "outputs": [
    {
     "data": {
      "text/plain": [
       "['19099',\n",
       " '22001',\n",
       " '18140',\n",
       " '15147',\n",
       " '6605',\n",
       " '19987',\n",
       " '12174',\n",
       " '11974',\n",
       " '12174',\n",
       " '13118']"
      ]
     },
     "execution_count": 23,
     "metadata": {},
     "output_type": "execute_result"
    }
   ],
   "source": [
    "Wednesday"
   ]
  },
  {
   "cell_type": "code",
   "execution_count": 24,
   "metadata": {
    "collapsed": true
   },
   "outputs": [],
   "source": [
    "Thursday=[('18693'),\n",
    "('19074'),\n",
    "('17375'),\n",
    "('15350'),\n",
    "('5435'),\n",
    "('14371'),\n",
    "('13217'),\n",
    "('12170'),\n",
    "('17371'),\n",
    "('19801')]"
   ]
  },
  {
   "cell_type": "code",
   "execution_count": 25,
   "metadata": {},
   "outputs": [
    {
     "data": {
      "text/plain": [
       "['18693',\n",
       " '19074',\n",
       " '17375',\n",
       " '15350',\n",
       " '5435',\n",
       " '14371',\n",
       " '13217',\n",
       " '12170',\n",
       " '17371',\n",
       " '19801']"
      ]
     },
     "execution_count": 25,
     "metadata": {},
     "output_type": "execute_result"
    }
   ],
   "source": [
    "Thursday"
   ]
  },
  {
   "cell_type": "code",
   "execution_count": 26,
   "metadata": {
    "collapsed": true
   },
   "outputs": [],
   "source": [
    "Friday=[('17255'),\n",
    "('14370'),\n",
    "('19200'),\n",
    "('16271'),\n",
    "('6707'),\n",
    "('9987'),\n",
    "('13731'),\n",
    "('19300'),\n",
    "('14741'),\n",
    "('15174'),]"
   ]
  },
  {
   "cell_type": "code",
   "execution_count": 28,
   "metadata": {},
   "outputs": [
    {
     "data": {
      "text/plain": [
       "['17255',\n",
       " '14370',\n",
       " '19200',\n",
       " '16271',\n",
       " '6707',\n",
       " '9987',\n",
       " '13731',\n",
       " '19300',\n",
       " '14741',\n",
       " '15174']"
      ]
     },
     "execution_count": 28,
     "metadata": {},
     "output_type": "execute_result"
    }
   ],
   "source": [
    "Friday"
   ]
  },
  {
   "cell_type": "code",
   "execution_count": 36,
   "metadata": {},
   "outputs": [
    {
     "data": {
      "text/plain": [
       "[]"
      ]
     },
     "execution_count": 36,
     "metadata": {},
     "output_type": "execute_result"
    }
   ],
   "source": [
    "c.execute(\"SELECT Shift FROM steps\")\n",
    "c.fetchall()"
   ]
  },
  {
   "cell_type": "code",
   "execution_count": 37,
   "metadata": {},
   "outputs": [
    {
     "data": {
      "text/plain": [
       "<sqlite3.Cursor at 0x158b18b28f0>"
      ]
     },
     "execution_count": 37,
     "metadata": {},
     "output_type": "execute_result"
    }
   ],
   "source": [
    "c.execute(\"SELECT 'Shift', 'Monday'\")"
   ]
  },
  {
   "cell_type": "code",
   "execution_count": 39,
   "metadata": {},
   "outputs": [
    {
     "data": {
      "text/plain": [
       "[('Shift', 'Monday')]"
      ]
     },
     "execution_count": 39,
     "metadata": {},
     "output_type": "execute_result"
    }
   ],
   "source": [
    "c.fetchall()"
   ]
  },
  {
   "cell_type": "code",
   "execution_count": 40,
   "metadata": {},
   "outputs": [
    {
     "name": "stdout",
     "output_type": "stream",
     "text": [
      "\n"
     ]
    }
   ],
   "source": [
    "print()"
   ]
  },
  {
   "cell_type": "markdown",
   "metadata": {},
   "source": [
    "# References."
   ]
  },
  {
   "cell_type": "markdown",
   "metadata": {},
   "source": [
    "1. Welton, John & M. Keepnews, David. (2007). Occupational mix adjustment: A risky plan. The American Journal of Nursing. 107. 70-72.\n",
    "2. Murdock Krischke, M (2015),AMN Healthcare, accessed 9 Dec 2018, URL:https://www.travelnursing.com/news/features-and-profiles/the-4-mile-shift-how-far-do-nurses-walk/2015. \n",
    "3. online periodical: accessed 10 Dec 2018, URL:https://www.nursingtimes.net/exclusive-stress-levels-at-work-making-nurses-ill-finds-survey/5077537.artic.\n",
    "4. Online periodical: accessed 03 Dec 2018, URL: https://www.nursingtimes.net/roles/nurse-managers/nhs-staff-walk-over-three-miles-a-day-on-average/7001523.article.\n",
    "    \n",
    "\n",
    "    \n",
    "    "
   ]
  }
 ],
 "metadata": {
  "kernelspec": {
   "display_name": "Python 3",
   "language": "python",
   "name": "python3"
  },
  "language_info": {
   "codemirror_mode": {
    "name": "ipython",
    "version": 3
   },
   "file_extension": ".py",
   "mimetype": "text/x-python",
   "name": "python",
   "nbconvert_exporter": "python",
   "pygments_lexer": "ipython3",
   "version": "3.6.3"
  }
 },
 "nbformat": 4,
 "nbformat_minor": 2
}
