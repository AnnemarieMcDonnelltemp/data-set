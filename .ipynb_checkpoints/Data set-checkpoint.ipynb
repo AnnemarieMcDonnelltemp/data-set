{
 "cells": [
  {
   "cell_type": "code",
   "execution_count": 1,
   "metadata": {
    "collapsed": true
   },
   "outputs": [],
   "source": [
    "import pandas as pd"
   ]
  },
  {
   "cell_type": "code",
   "execution_count": 7,
   "metadata": {},
   "outputs": [
    {
     "name": "stdout",
     "output_type": "stream",
     "text": [
      "    sex  age  shift  mon  tues  wed  thurs  fri  sat  sun\n",
      "0   NaN  NaN    NaN  NaN   NaN  NaN    NaN  NaN  NaN  NaN\n",
      "1   NaN  NaN    NaN  NaN   NaN  NaN    NaN  NaN  NaN  NaN\n",
      "2   NaN  NaN    NaN  NaN   NaN  NaN    NaN  NaN  NaN  NaN\n",
      "3   NaN  NaN    NaN  NaN   NaN  NaN    NaN  NaN  NaN  NaN\n",
      "4   NaN  NaN    NaN  NaN   NaN  NaN    NaN  NaN  NaN  NaN\n",
      "5   NaN  NaN    NaN  NaN   NaN  NaN    NaN  NaN  NaN  NaN\n",
      "6   NaN  NaN    NaN  NaN   NaN  NaN    NaN  NaN  NaN  NaN\n",
      "7   NaN  NaN    NaN  NaN   NaN  NaN    NaN  NaN  NaN  NaN\n",
      "8   NaN  NaN    NaN  NaN   NaN  NaN    NaN  NaN  NaN  NaN\n",
      "9   NaN  NaN    NaN  NaN   NaN  NaN    NaN  NaN  NaN  NaN\n",
      "10  NaN  NaN    NaN  NaN   NaN  NaN    NaN  NaN  NaN  NaN\n"
     ]
    }
   ],
   "source": [
    "import pandas as pd\n",
    "from pandas import DataFrame\n",
    "\n",
    "ReadExcel = pd.read_excel (r'C:\\Users\\Owner\\Desktop\\nurse steps.xlsx') #for an earlier version of Excel, you may need to use the file extension of 'xls'\n",
    "\n",
    "df = DataFrame(ReadExcel,columns=['sex','age','shift','mon','tues','wed','thurs','fri','sat','sun']) #add as many columns as you need\n",
    "i=\n",
    "print (df)\n",
    "\n"
   ]
  },
  {
   "cell_type": "code",
   "execution_count": null,
   "metadata": {
    "collapsed": true
   },
   "outputs": [],
   "source": [
    "\n"
   ]
  },
  {
   "cell_type": "code",
   "execution_count": null,
   "metadata": {
    "collapsed": true
   },
   "outputs": [],
   "source": []
  }
 ],
 "metadata": {
  "kernelspec": {
   "display_name": "Python 3",
   "language": "python",
   "name": "python3"
  },
  "language_info": {
   "codemirror_mode": {
    "name": "ipython",
    "version": 3
   },
   "file_extension": ".py",
   "mimetype": "text/x-python",
   "name": "python",
   "nbconvert_exporter": "python",
   "pygments_lexer": "ipython3",
   "version": "3.6.3"
  }
 },
 "nbformat": 4,
 "nbformat_minor": 2
}
