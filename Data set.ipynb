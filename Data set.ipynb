{
 "cells": [
  {
   "cell_type": "code",
   "execution_count": 1,
   "metadata": {
    "collapsed": true
   },
   "outputs": [],
   "source": [
    "import pandas as pd"
   ]
  },
  {
   "cell_type": "code",
   "execution_count": 9,
   "metadata": {},
   "outputs": [
    {
     "name": "stdout",
     "output_type": "stream",
     "text": [
      "    sex  age  shift  mon  tues  wed  thurs  fri  sat  sun\n",
      "0   NaN  NaN    NaN  NaN   NaN  NaN    NaN  NaN  NaN  NaN\n",
      "1   NaN  NaN    NaN  NaN   NaN  NaN    NaN  NaN  NaN  NaN\n",
      "2   NaN  NaN    NaN  NaN   NaN  NaN    NaN  NaN  NaN  NaN\n",
      "3   NaN  NaN    NaN  NaN   NaN  NaN    NaN  NaN  NaN  NaN\n",
      "4   NaN  NaN    NaN  NaN   NaN  NaN    NaN  NaN  NaN  NaN\n",
      "5   NaN  NaN    NaN  NaN   NaN  NaN    NaN  NaN  NaN  NaN\n",
      "6   NaN  NaN    NaN  NaN   NaN  NaN    NaN  NaN  NaN  NaN\n",
      "7   NaN  NaN    NaN  NaN   NaN  NaN    NaN  NaN  NaN  NaN\n",
      "8   NaN  NaN    NaN  NaN   NaN  NaN    NaN  NaN  NaN  NaN\n",
      "9   NaN  NaN    NaN  NaN   NaN  NaN    NaN  NaN  NaN  NaN\n",
      "10  NaN  NaN    NaN  NaN   NaN  NaN    NaN  NaN  NaN  NaN\n"
     ]
    }
   ],
   "source": [
    "import pandas as pd\n",
    "from pandas import DataFrame\n",
    "\n",
    "ReadExcel = pd.read_excel (r'C:\\Users\\Owner\\Desktop\\nurse steps.xlsx') #for an earlier version of Excel, you may need to use the file extension of 'xls'\n",
    "\n",
    "df = DataFrame(ReadExcel,columns=['sex','age','shift','mon','tues','wed','thurs','fri','sat','sun']) #add as many columns as you need\n",
    "\n",
    "print (df)\n",
    "\n",
    "\n"
   ]
  },
  {
   "cell_type": "code",
   "execution_count": 2,
   "metadata": {},
   "outputs": [
    {
     "ename": "SyntaxError",
     "evalue": "(unicode error) 'unicodeescape' codec can't decode bytes in position 7-8: truncated \\UXXXXXXXX escape (<ipython-input-2-51d984651f21>, line 8)",
     "output_type": "error",
     "traceback": [
      "\u001b[1;36m  File \u001b[1;32m\"<ipython-input-2-51d984651f21>\"\u001b[1;36m, line \u001b[1;32m8\u001b[0m\n\u001b[1;33m    path = ('...\\\\C:\\Users\\Owner\\Desktop\\nurse steps.xlsx')\u001b[0m\n\u001b[1;37m           ^\u001b[0m\n\u001b[1;31mSyntaxError\u001b[0m\u001b[1;31m:\u001b[0m (unicode error) 'unicodeescape' codec can't decode bytes in position 7-8: truncated \\UXXXXXXXX escape\n"
     ]
    }
   ],
   "source": [
    "\n",
    "import xlsxwriter\n",
    "\n",
    "import pandas as pd\n",
    "\n",
    "from pandas import DataFrame\n",
    "\n",
    "path = ('...\\\\C:\\Users\\Owner\\Desktop\\nurse steps.xlsx')\n",
    "\n",
    "xl = pd.ExcelFile(path)\n",
    "\n",
    "print(xl.sheet_names)\n"
   ]
  },
  {
   "cell_type": "code",
   "execution_count": null,
   "metadata": {
    "collapsed": true
   },
   "outputs": [],
   "source": []
  }
 ],
 "metadata": {
  "kernelspec": {
   "display_name": "Python 3",
   "language": "python",
   "name": "python3"
  },
  "language_info": {
   "codemirror_mode": {
    "name": "ipython",
    "version": 3
   },
   "file_extension": ".py",
   "mimetype": "text/x-python",
   "name": "python",
   "nbconvert_exporter": "python",
   "pygments_lexer": "ipython3",
   "version": "3.6.3"
  }
 },
 "nbformat": 4,
 "nbformat_minor": 2
}
